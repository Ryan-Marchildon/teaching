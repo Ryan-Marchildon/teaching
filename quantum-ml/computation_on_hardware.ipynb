{
 "cells": [
  {
   "cell_type": "markdown",
   "metadata": {},
   "source": [
    "# Using an IBM Quantum Computer Over the Cloud\n",
    "***"
   ]
  },
  {
   "cell_type": "markdown",
   "metadata": {},
   "source": [
    "Here we show you how to inferface with actual quantum hardware over the cloud!\n"
   ]
  },
  {
   "cell_type": "markdown",
   "metadata": {},
   "source": [
    "### Setup\n",
    "\n",
    "1. Go [here](https://quantum-computing.ibm.com/) and create an account. \n",
    "2. Once in your account, go to your dashboard, and copy your API access token. This allows you to access machines with up to 15 qubits.\n",
    "3. Copy and paste that token below, then execute the code. You might have to wait in a queue before the computation starts. \n",
    "4. [Install Qiskit](https://qiskit.org/documentation/install.html)\n",
    "\n",
    "See [here](https://github.com/XanaduAI/pennylane-qiskit) for more information on how to use Xanadu's PennyLane with the IBM Q Experience. \n"
   ]
  },
  {
   "cell_type": "code",
   "execution_count": null,
   "metadata": {},
   "outputs": [],
   "source": [
    "# IBMQX_API_TOKEN = \"paste_your_token_here\""
   ]
  },
  {
   "cell_type": "markdown",
   "metadata": {},
   "source": [
    "### Can we run the Quantum Neural Network from the other notebook?\n",
    "\n",
    "Unfortunately that code is incompatible with the IBM quantum hardware, because it uses a different architecture. The Xanadu photonic quantum computer (which is not yet available) uses continous-variable states (qubits can take on any real-valued number) and operates as an analog quantum computer (does not use the quantum digital gate model).\n",
    "\n",
    "The IBM quantum hardware is built using binary (two-state) qubits and operates according to the gate model. \n",
    "\n",
    "As of January 2020, there is only one example of implementing a quantum neural network on a gate-based quantum computer, and the implementation isn't straightforward. It's not that the gates are difficult to implement. Rather, the way they formulated the problem is complex, and computing the gradients and weight updates is non-trivial. The experiment can be found here: https://www.nature.com/articles/s41534-019-0140-4.pdf\n",
    "\n",
    "This involved implementing the set of quantum gates shown below:\n",
    "\n",
    "<img src=\"./images/quantum-perceptron-gates.png\" alt=\"QNN\" style=\"width: 500px;\"/>\n",
    "\n",
    "\n",
    "While it's too complex to reproduce this work for the purposes of this tutorial, we can perform a simpler calculation using a subset of the gates above. At least this will give us some experience in operating the quantum hardware. \n",
    "\n",
    "**However** if anyone wants to try to reproduce this as a passion project, slack me and we can work on it together. \n"
   ]
  },
  {
   "cell_type": "markdown",
   "metadata": {},
   "source": [
    "***\n",
    "## Performing Simple Gate Manipulations with Qiskit\n",
    "\n",
    "Here we show how to entangle two qubits, measure their values, and read out the results. Our goal is to create the state:\n",
    "\n",
    "$\\vert \\Psi \\rangle = \\frac{1}{\\sqrt{2}}[\\vert 00 \\rangle + \\vert11 \\rangle]$ \n",
    "\n",
    "Where both qubits are in a superposition of `0` and `1`, but can't have opposite values.\n"
   ]
  },
  {
   "cell_type": "code",
   "execution_count": null,
   "metadata": {},
   "outputs": [],
   "source": [
    "# imports \n",
    "from qiskit import *\n",
    "import matplotlib.pyplot as plt\n",
    "%matplotlib inline "
   ]
  },
  {
   "cell_type": "markdown",
   "metadata": {},
   "source": [
    "### Building the Circuit\n",
    "\n",
    "We define a quantum circuit with two qubits and two outputs. The outputs are treated as a register of classical bits which will hold the scalar value of any measurements we perform on the qubits. "
   ]
  },
  {
   "cell_type": "code",
   "execution_count": null,
   "metadata": {},
   "outputs": [],
   "source": [
    "circuit = QuantumCircuit(2,2, name='test')  # define a quantum circuit with two inputs and two outputs\n",
    "circuit.draw(output='mpl')"
   ]
  },
  {
   "cell_type": "markdown",
   "metadata": {},
   "source": [
    "The algorithm for entangling two qubits is a 'Hadamard Gate' on one, followed by a controlled-not (CNOT) gate between both. Then we have to measure the result. "
   ]
  },
  {
   "cell_type": "code",
   "execution_count": null,
   "metadata": {},
   "outputs": [],
   "source": [
    "circuit.h(0) # hadamard gate on qubit 0\n",
    "circuit.cx(0,1) # CNOT gate between qubit 0 and qubit 1\n",
    "circuit.measure([0,1], [0,1]) # qubits [0,1] are measured and results are stored in classical bits [0,1] in order\n",
    "circuit.draw(output='mpl')"
   ]
  },
  {
   "cell_type": "markdown",
   "metadata": {},
   "source": [
    "### Running on a Simulator"
   ]
  },
  {
   "cell_type": "code",
   "execution_count": null,
   "metadata": {},
   "outputs": [],
   "source": [
    "from qiskit.visualization import plot_histogram\n",
    "\n",
    "simulator = Aer.get_backend('qasm_simulator')\n",
    "result = execute(circuit, backend=simulator).result()\n",
    "plot_histogram(result.get_counts(circuit))"
   ]
  },
  {
   "cell_type": "markdown",
   "metadata": {},
   "source": [
    "The simulator also includes realistic device noise, which is why we obtain imperfect results. "
   ]
  },
  {
   "cell_type": "markdown",
   "metadata": {},
   "source": [
    "### Running on Quantum Hardware\n",
    "\n",
    "For more details on interfacing with quantum hardware, see [here](https://medium.com/qiskit/qiskit-backends-what-they-are-and-how-to-work-with-them-fb66b3bd0463).\n",
    "\n",
    "You'll need your IMB quantum experience API token to set up the interface with the hardware:\n"
   ]
  },
  {
   "cell_type": "code",
   "execution_count": null,
   "metadata": {},
   "outputs": [],
   "source": [
    "IBMQ.enable_account(IBMQX_API_TOKEN)\n",
    "provider = IBMQ.get_provider(hub = 'ibm-q')"
   ]
  },
  {
   "cell_type": "markdown",
   "metadata": {},
   "source": [
    "Let's grab the least busy backend that has at least the minimum number of qubits we need:"
   ]
  },
  {
   "cell_type": "code",
   "execution_count": null,
   "metadata": {},
   "outputs": [],
   "source": [
    "num_qubits = 2\n",
    "\n",
    "from qiskit.providers.ibmq import least_busy\n",
    "possible_devices = provider.backends(filters=lambda x: \n",
    "                                     x.configuration().n_qubits >= num_qubits\n",
    "                                       and \n",
    "                                     x.configuration().simulator == False)\n",
    "qcomp = least_busy(possible_devices)\n",
    "print(qcomp)"
   ]
  },
  {
   "cell_type": "markdown",
   "metadata": {},
   "source": [
    "Now let's run our job. "
   ]
  },
  {
   "cell_type": "code",
   "execution_count": null,
   "metadata": {},
   "outputs": [],
   "source": [
    "import qiskit.tools.jupyter\n",
    "from qiskit.tools.monitor import job_monitor\n",
    "%qiskit_job_watcher\n",
    "\n",
    "job = execute(circuit, backend=qcomp)\n",
    "job_monitor(job)"
   ]
  },
  {
   "cell_type": "markdown",
   "metadata": {},
   "source": [
    "Viewing the results:"
   ]
  },
  {
   "cell_type": "code",
   "execution_count": null,
   "metadata": {},
   "outputs": [],
   "source": [
    "%qiskit_disable_job_watcher\n",
    "\n",
    "result = job.result()\n",
    "plot_histogram(result.get_counts(circuit))\n"
   ]
  },
  {
   "cell_type": "markdown",
   "metadata": {},
   "source": [
    "You can see our results were not perfect, and this is in part due to noise in the device which corrupts the quantum states. \n",
    "\n",
    "The devices we have today are 'kind of quantum', but not perfect. There are techniques being devloped to correct errors. But in the meantime, there are a lot of interest in finding tasks that can still obtain a quantum speedup even with noisy, small-scale quantum processors. "
   ]
  },
  {
   "cell_type": "markdown",
   "metadata": {},
   "source": [
    "***\n",
    "***\n",
    "\n",
    "## Challenge: Implementing the \"Rotoselect\" Algorithm\n",
    "\n",
    "Try executing the code from this tutorial on real hardware and let us know if you succeed!\n",
    "https://pennylane.ai/qml/app/tutorial_rotoselect.html\n",
    "\n",
    "To access the IBM device from PennyLane, you'll need to define your device as follows, where `QUANTUM_BACKEND` gives the name of the hardware device you want to use (e.g. `ibmq_burlington`). \n",
    "\n",
    "```\n",
    "device = qml.device('qiskit.ibmq', wires=1, backend=QUANTUM_BACKEND, ibmqx_token=IBMQX_API_TOKEN)\n",
    "```\n"
   ]
  }
 ],
 "metadata": {
  "kernelspec": {
   "display_name": "Python [conda env:pennylane]",
   "language": "python",
   "name": "conda-env-pennylane-py"
  },
  "language_info": {
   "codemirror_mode": {
    "name": "ipython",
    "version": 3
   },
   "file_extension": ".py",
   "mimetype": "text/x-python",
   "name": "python",
   "nbconvert_exporter": "python",
   "pygments_lexer": "ipython3",
   "version": "3.6.7"
  }
 },
 "nbformat": 4,
 "nbformat_minor": 4
}
